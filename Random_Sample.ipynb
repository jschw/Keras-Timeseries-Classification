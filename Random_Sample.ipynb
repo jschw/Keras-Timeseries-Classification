{
  "nbformat": 4,
  "nbformat_minor": 0,
  "metadata": {
    "colab": {
      "name": "Random_Sample.ipynb",
      "provenance": [],
      "collapsed_sections": [],
      "authorship_tag": "ABX9TyMw00tO+gGsIo2owbksUF5n",
      "include_colab_link": true
    },
    "kernelspec": {
      "name": "python3",
      "display_name": "Python 3"
    }
  },
  "cells": [
    {
      "cell_type": "markdown",
      "metadata": {
        "id": "view-in-github",
        "colab_type": "text"
      },
      "source": [
        "<a href=\"https://colab.research.google.com/github/jschw/keras_timeseries_classification/blob/master/Random_Sample.ipynb\" target=\"_parent\"><img src=\"https://colab.research.google.com/assets/colab-badge.svg\" alt=\"Open In Colab\"/></a>"
      ]
    },
    {
      "cell_type": "code",
      "metadata": {
        "id": "hAQDtvbxHg-R",
        "colab_type": "code",
        "colab": {}
      },
      "source": [
        "# Imports\n",
        "\n",
        "import numpy as np\n",
        "import pandas as pd\n",
        "import os\n",
        "import matplotlib.pyplot as plt\n",
        "\n",
        "import tensorflow as tf\n",
        "from tensorflow.keras.utils import to_categorical\n",
        "from tensorflow.keras.wrappers.scikit_learn import KerasClassifier\n",
        "\n",
        "from sklearn.preprocessing import LabelEncoder"
      ],
      "execution_count": null,
      "outputs": []
    },
    {
      "cell_type": "code",
      "metadata": {
        "id": "i0hjOXj-HugC",
        "colab_type": "code",
        "colab": {
          "base_uri": "https://localhost:8080/",
          "height": 51
        },
        "outputId": "6ced194b-39ea-47c7-90c3-24defe832b05"
      },
      "source": [
        "# Load file\n",
        "\n",
        "data_test = pd.read_csv('curve_dataset_test.csv', index_col=False)\n",
        "data_test = data_test.sample(frac=1, random_state=42).reset_index()\n",
        "data_test.drop(['index'], 1, inplace=True)\n",
        "\n",
        "data_test[:9][['shape', 'x1', 'y1','x2', 'y2','x3', 'y3','x4', 'y4','x5', 'y5','x6', 'y6','x7', 'y7','x8', 'y8','x9', 'y9','x10', 'y10']]\n",
        "\n",
        "# Split x/y\n",
        "X_test = data_test.values[:,0:-1]\n",
        "Y_test = data_test.values[:,-1]\n",
        "\n",
        "X_test = X_test.astype('float32')\n",
        "\n",
        "\n",
        "# Encode label vector\n",
        "encoder = LabelEncoder()\n",
        "encoded_Y_test = encoder.fit_transform(Y_test)\n",
        "\n",
        "# Transform labels to categorical (=one-hot-encoding)\n",
        "dummy_y_test = to_categorical(encoded_Y_test)\n",
        "mapping = dict(zip(encoder.classes_, range(1, len(encoder.classes_)+1)))\n",
        "print('Class mapping:')\n",
        "print(mapping)\n"
      ],
      "execution_count": null,
      "outputs": [
        {
          "output_type": "stream",
          "text": [
            "Class mapping:\n",
            "{'circle': 1, 'line': 2, 'parabola': 3}\n"
          ],
          "name": "stdout"
        }
      ]
    },
    {
      "cell_type": "code",
      "metadata": {
        "id": "QTtlwpxgH-tY",
        "colab_type": "code",
        "colab": {
          "base_uri": "https://localhost:8080/",
          "height": 749
        },
        "outputId": "1baf3807-6c95-4747-df3e-9ab691f039fe"
      },
      "source": [
        "# Get random sample\n",
        "rand_index = np.random.choice(len(X_test), 1)\n",
        "predict_arr = X_test[rand_index].reshape(1,20)\n",
        "predict_ground_truth = dummy_y_test[rand_index]\n",
        "\n",
        "\n",
        "#print(X_test.shape)\n",
        "#print(predict_arr)\n",
        "#print(predict_arr.shape)\n",
        "print(' ')\n",
        "\n",
        "\n",
        "x_data = predict_arr[0,0::2]\n",
        "y_data = predict_arr[0,1::2]\n",
        "\n",
        "print('Ground truth.: ' + str(np.argmax(predict_ground_truth)))\n",
        "print(' ')\n",
        "\n",
        "fig = plt.figure(figsize=[10,10])\n",
        "plt.plot(x_data,y_data,'--x')\n",
        "plt.xlabel('X-axis',fontsize=14)\n",
        "plt.ylabel('Y-axis',fontsize=14)\n",
        "plt.axhline(y=0, color =\"k\")\n",
        "plt.axvline(x=0, color =\"k\")\n",
        "plt.grid(True)\n",
        "plt.show()\n",
        "\n",
        "num_datapoints = len(predict_arr[0,:])\n",
        "\n",
        "print('Array notation for structured text:')\n",
        "print(' ')\n",
        "array_template = 'REAL_Datapoints : ARRAY[0..' + str(num_datapoints) + '] OF REAL := ['\n",
        "\n",
        "j=0\n",
        "for val in range(num_datapoints):\n",
        "  array_template += str(predict_arr[0,j])\n",
        "  array_template += ','\n",
        "  j+=1\n",
        "\n",
        "array_template = array_template[:-1]\n",
        "\n",
        "array_template += '];'\n",
        "\n",
        "print(array_template)\n",
        "print(' ')"
      ],
      "execution_count": null,
      "outputs": [
        {
          "output_type": "stream",
          "text": [
            " \n",
            "Ground truth.: 1\n",
            " \n"
          ],
          "name": "stdout"
        },
        {
          "output_type": "display_data",
          "data": {
            "image/png": "[encoded data removed]",
            "text/plain": [
              "<Figure size 720x720 with 1 Axes>"
            ]
          },
          "metadata": {
            "tags": [],
            "needs_background": "light"
          }
        },
        {
          "output_type": "stream",
          "text": [
            "Array notation for structured text:\n",
            " \n",
            "REAL_Datapoints : ARRAY[0..20] OF REAL := [-8.289415,12.772122,-7.2119603,11.232855,-6.1345057,9.693588,-5.0570507,8.154321,-3.979596,6.615054,-2.9021409,5.075787,-1.824686,3.53652,-0.7472312,1.9972528,0.3302237,0.45798582,1.4076786,-1.0812812];\n",
            " \n"
          ],
          "name": "stdout"
        }
      ]
    }
  ]
}