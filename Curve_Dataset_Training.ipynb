{
  "nbformat": 4,
  "nbformat_minor": 0,
  "metadata": {
    "colab": {
      "name": "Curve_Dataset_Training.ipynb",
      "provenance": [],
      "collapsed_sections": [],
      "authorship_tag": "ABX9TyPUeF7CXSBhGsC4PUYcupcC",
      "include_colab_link": true
    },
    "kernelspec": {
      "name": "python3",
      "display_name": "Python 3"
    },
    "accelerator": "GPU"
  },
  "cells": [
    {
      "cell_type": "markdown",
      "metadata": {
        "id": "view-in-github",
        "colab_type": "text"
      },
      "source": [
        "<a href=\"https://colab.research.google.com/github/jschw/keras_timeseries_classification/blob/master/Curve_Dataset_Training.ipynb\" target=\"_parent\"><img src=\"https://colab.research.google.com/assets/colab-badge.svg\" alt=\"Open In Colab\"/></a>"
      ]
    },
    {
      "cell_type": "code",
      "metadata": {
        "id": "SVuWicWM7dfY",
        "colab_type": "code",
        "colab": {}
      },
      "source": [
        "# Install packages\n",
        "#!pip3 install onnx onnxconverter-common keras2onnx\n",
        "!pip3 install onnxmltools onnxruntime"
      ],
      "execution_count": null,
      "outputs": []
    },
    {
      "cell_type": "code",
      "metadata": {
        "id": "1irDY_H7N5rF",
        "colab_type": "code",
        "colab": {}
      },
      "source": [
        "# Imports\n",
        "\n",
        "import numpy as np\n",
        "import pandas as pd\n",
        "import os\n",
        "import time\n",
        "import matplotlib.pyplot as plt\n",
        "\n",
        "import tensorflow as tf\n",
        "\n",
        "from tensorflow.keras.models import Sequential\n",
        "from tensorflow.keras.layers import Dense\n",
        "from tensorflow.keras.layers import Dropout\n",
        "from tensorflow.keras import optimizers\n",
        "from tensorflow.keras.utils import to_categorical\n",
        "from tensorflow.keras.wrappers.scikit_learn import KerasClassifier\n",
        "\n",
        "import onnxmltools\n",
        "#import keras2onnx\n",
        "\n",
        "from sklearn.model_selection import cross_val_score\n",
        "from sklearn.model_selection import KFold\n",
        "from sklearn.preprocessing import LabelEncoder"
      ],
      "execution_count": null,
      "outputs": []
    },
    {
      "cell_type": "code",
      "metadata": {
        "id": "z77QwpDLPWsk",
        "colab_type": "code",
        "colab": {}
      },
      "source": [
        "# Functions\n",
        "\n",
        "# Define neural network model\n",
        "def get_model():\n",
        "    model = Sequential()\n",
        "    model.add(Dense(64, input_dim=20, activation='relu'))\n",
        "    model.add(Dropout(0.2))\n",
        "    model.add(Dense(128, activation='relu'))\n",
        "    model.add(Dropout(0.3))\n",
        "    model.add(Dense(32, activation='relu'))\n",
        "    model.add(Dropout(0.5))\n",
        "    model.add(Dense(16, activation='relu'))\n",
        "    model.add(Dropout(0.5))\n",
        "    model.add(Dense(3, activation='softmax'))\n",
        "\n",
        "    Adadelta =  optimizers.Adadelta(lr = 1)\n",
        "    model.compile(loss='categorical_crossentropy', optimizer=Adadelta, metrics=['accuracy'])\n",
        "    \n",
        "    return model\n",
        "\n",
        "# Plotter help functions\n",
        "def plotter_train(training,validation,title):\n",
        "    plt.figure(figsize=(10,10))\n",
        "    n = len(training)\n",
        "    x = np.linspace(0,200,n)\n",
        "    training = np.array(training)\n",
        "    validation = np.array(validation)\n",
        "    plt.plot(x, training, 'g-', label = 'Training', linewidth =2)\n",
        "    plt.plot(x, validation, 'r', label = 'Validation')\n",
        "    plt.grid(True)\n",
        "    plt.xlabel('Number of Epoch')\n",
        "    plt.ylabel(title,fontsize=12)\n",
        "    plt.title(title,fontsize=24)\n",
        "    plt.legend()\n",
        "    plt.show()\n",
        "\n",
        "def plotter_data(x_data, y_data, title):\n",
        "    fig = plt.figure(figsize=[10,10])\n",
        "    plt.plot(x_data,y_data,'--x')\n",
        "    plt.xlabel('X-axis',fontsize=14)\n",
        "    plt.ylabel('Y-axis',fontsize=14)\n",
        "    plt.axhline(y=0, color =\"k\")\n",
        "    plt.axvline(x=0, color =\"k\")\n",
        "    plt.grid(True)\n",
        "    plt.show()"
      ],
      "execution_count": null,
      "outputs": []
    },
    {
      "cell_type": "markdown",
      "metadata": {
        "id": "t8I8YeYsOnzE",
        "colab_type": "text"
      },
      "source": [
        "# Load and preprocess the dataset"
      ]
    },
    {
      "cell_type": "code",
      "metadata": {
        "id": "uuOw7JM0OIuv",
        "colab_type": "code",
        "colab": {
          "base_uri": "https://localhost:8080/",
          "height": 365
        },
        "outputId": "26cce2e3-355a-4c79-b66d-181b3902644a"
      },
      "source": [
        "# Load Dataset\n",
        "\n",
        "data = pd.read_csv('curve_dataset_train.csv', index_col=False)\n",
        "data= data.sample(frac=1, random_state=42).reset_index()\n",
        "data.drop(['index'], 1, inplace=True)\n",
        "print(data.shape)\n",
        "data[:9][['shape', 'x1', 'y1','x2', 'y2','x3', 'y3','x4', 'y4','x5', 'y5','x6', 'y6','x7', 'y7','x8', 'y8','x9', 'y9','x10', 'y10']]\n"
      ],
      "execution_count": null,
      "outputs": [
        {
          "output_type": "stream",
          "text": [
            "(3000, 21)\n"
          ],
          "name": "stdout"
        },
        {
          "output_type": "execute_result",
          "data": {
            "text/html": [
              "<div>\n",
              "<style scoped>\n",
              "    .dataframe tbody tr th:only-of-type {\n",
              "        vertical-align: middle;\n",
              "    }\n",
              "\n",
              "    .dataframe tbody tr th {\n",
              "        vertical-align: top;\n",
              "    }\n",
              "\n",
              "    .dataframe thead th {\n",
              "        text-align: right;\n",
              "    }\n",
              "</style>\n",
              "<table border=\"1\" class=\"dataframe\">\n",
              "  <thead>\n",
              "    <tr style=\"text-align: right;\">\n",
              "      <th></th>\n",
              "      <th>shape</th>\n",
              "      <th>x1</th>\n",
              "      <th>y1</th>\n",
              "      <th>x2</th>\n",
              "      <th>y2</th>\n",
              "      <th>x3</th>\n",
              "      <th>y3</th>\n",
              "      <th>x4</th>\n",
              "      <th>y4</th>\n",
              "      <th>x5</th>\n",
              "      <th>y5</th>\n",
              "      <th>x6</th>\n",
              "      <th>y6</th>\n",
              "      <th>x7</th>\n",
              "      <th>y7</th>\n",
              "      <th>x8</th>\n",
              "      <th>y8</th>\n",
              "      <th>x9</th>\n",
              "      <th>y9</th>\n",
              "      <th>x10</th>\n",
              "      <th>y10</th>\n",
              "    </tr>\n",
              "  </thead>\n",
              "  <tbody>\n",
              "    <tr>\n",
              "      <th>0</th>\n",
              "      <td>circle</td>\n",
              "      <td>5.799098</td>\n",
              "      <td>2.886785</td>\n",
              "      <td>5.980137</td>\n",
              "      <td>2.097346</td>\n",
              "      <td>6.295511</td>\n",
              "      <td>1.351337</td>\n",
              "      <td>6.735637</td>\n",
              "      <td>0.671425</td>\n",
              "      <td>7.287142</td>\n",
              "      <td>0.078270</td>\n",
              "      <td>7.933268</td>\n",
              "      <td>-0.410106</td>\n",
              "      <td>8.654384</td>\n",
              "      <td>-0.778863</td>\n",
              "      <td>9.428578</td>\n",
              "      <td>-1.016798</td>\n",
              "      <td>10.232328</td>\n",
              "      <td>-1.116681</td>\n",
              "      <td>11.041211</td>\n",
              "      <td>-1.075476</td>\n",
              "    </tr>\n",
              "    <tr>\n",
              "      <th>1</th>\n",
              "      <td>circle</td>\n",
              "      <td>3.654798</td>\n",
              "      <td>-1.789780</td>\n",
              "      <td>2.359807</td>\n",
              "      <td>-1.998714</td>\n",
              "      <td>1.120770</td>\n",
              "      <td>-2.429347</td>\n",
              "      <td>-0.024664</td>\n",
              "      <td>-3.068594</td>\n",
              "      <td>-1.041693</td>\n",
              "      <td>-3.897032</td>\n",
              "      <td>-1.899414</td>\n",
              "      <td>-4.889489</td>\n",
              "      <td>-2.571765</td>\n",
              "      <td>-6.015810</td>\n",
              "      <td>-3.038319</td>\n",
              "      <td>-7.241773</td>\n",
              "      <td>-3.284898</td>\n",
              "      <td>-8.530126</td>\n",
              "      <td>-3.304011</td>\n",
              "      <td>-9.841725</td>\n",
              "    </tr>\n",
              "    <tr>\n",
              "      <th>2</th>\n",
              "      <td>circle</td>\n",
              "      <td>10.698867</td>\n",
              "      <td>11.603182</td>\n",
              "      <td>8.615402</td>\n",
              "      <td>12.448563</td>\n",
              "      <td>6.416791</td>\n",
              "      <td>12.919310</td>\n",
              "      <td>4.169838</td>\n",
              "      <td>13.001121</td>\n",
              "      <td>1.942815</td>\n",
              "      <td>12.691509</td>\n",
              "      <td>-0.196611</td>\n",
              "      <td>11.999883</td>\n",
              "      <td>-2.183435</td>\n",
              "      <td>10.947257</td>\n",
              "      <td>-3.957288</td>\n",
              "      <td>9.565614</td>\n",
              "      <td>-5.464273</td>\n",
              "      <td>7.896935</td>\n",
              "      <td>-6.658600</td>\n",
              "      <td>5.991922</td>\n",
              "    </tr>\n",
              "    <tr>\n",
              "      <th>3</th>\n",
              "      <td>parabola</td>\n",
              "      <td>2.860412</td>\n",
              "      <td>0.187164</td>\n",
              "      <td>1.470891</td>\n",
              "      <td>1.549967</td>\n",
              "      <td>0.089348</td>\n",
              "      <td>2.973353</td>\n",
              "      <td>-1.284218</td>\n",
              "      <td>4.457320</td>\n",
              "      <td>-2.649805</td>\n",
              "      <td>6.001869</td>\n",
              "      <td>-4.007415</td>\n",
              "      <td>7.607000</td>\n",
              "      <td>-5.357047</td>\n",
              "      <td>9.272712</td>\n",
              "      <td>-6.698701</td>\n",
              "      <td>10.999007</td>\n",
              "      <td>-8.032377</td>\n",
              "      <td>12.785883</td>\n",
              "      <td>-9.358075</td>\n",
              "      <td>14.633341</td>\n",
              "    </tr>\n",
              "    <tr>\n",
              "      <th>4</th>\n",
              "      <td>line</td>\n",
              "      <td>3.134748</td>\n",
              "      <td>2.879625</td>\n",
              "      <td>3.430366</td>\n",
              "      <td>4.115836</td>\n",
              "      <td>3.725983</td>\n",
              "      <td>5.352047</td>\n",
              "      <td>4.021601</td>\n",
              "      <td>6.588258</td>\n",
              "      <td>4.317218</td>\n",
              "      <td>7.824469</td>\n",
              "      <td>4.612836</td>\n",
              "      <td>9.060680</td>\n",
              "      <td>4.908453</td>\n",
              "      <td>10.296891</td>\n",
              "      <td>5.204070</td>\n",
              "      <td>11.533102</td>\n",
              "      <td>5.499688</td>\n",
              "      <td>12.769313</td>\n",
              "      <td>5.795305</td>\n",
              "      <td>14.005524</td>\n",
              "    </tr>\n",
              "    <tr>\n",
              "      <th>5</th>\n",
              "      <td>circle</td>\n",
              "      <td>4.132642</td>\n",
              "      <td>0.350400</td>\n",
              "      <td>3.493689</td>\n",
              "      <td>0.848124</td>\n",
              "      <td>2.778014</td>\n",
              "      <td>1.227333</td>\n",
              "      <td>2.007363</td>\n",
              "      <td>1.476505</td>\n",
              "      <td>1.205151</td>\n",
              "      <td>1.588070</td>\n",
              "      <td>0.395754</td>\n",
              "      <td>1.558638</td>\n",
              "      <td>-0.396236</td>\n",
              "      <td>1.389102</td>\n",
              "      <td>-1.146754</td>\n",
              "      <td>1.084614</td>\n",
              "      <td>-1.832996</td>\n",
              "      <td>0.654426</td>\n",
              "      <td>-2.434111</td>\n",
              "      <td>0.111609</td>\n",
              "    </tr>\n",
              "    <tr>\n",
              "      <th>6</th>\n",
              "      <td>circle</td>\n",
              "      <td>-23.006002</td>\n",
              "      <td>5.831956</td>\n",
              "      <td>-24.018442</td>\n",
              "      <td>2.776739</td>\n",
              "      <td>-24.484969</td>\n",
              "      <td>-0.407871</td>\n",
              "      <td>-24.391406</td>\n",
              "      <td>-3.625111</td>\n",
              "      <td>-23.740597</td>\n",
              "      <td>-6.777226</td>\n",
              "      <td>-22.552316</td>\n",
              "      <td>-9.768443</td>\n",
              "      <td>-20.862669</td>\n",
              "      <td>-12.507872</td>\n",
              "      <td>-18.722993</td>\n",
              "      <td>-14.912280</td>\n",
              "      <td>-16.198304</td>\n",
              "      <td>-16.908609</td>\n",
              "      <td>-13.365311</td>\n",
              "      <td>-18.436201</td>\n",
              "    </tr>\n",
              "    <tr>\n",
              "      <th>7</th>\n",
              "      <td>line</td>\n",
              "      <td>10.101848</td>\n",
              "      <td>-8.910771</td>\n",
              "      <td>6.844379</td>\n",
              "      <td>-7.986193</td>\n",
              "      <td>3.586909</td>\n",
              "      <td>-7.061615</td>\n",
              "      <td>0.329440</td>\n",
              "      <td>-6.137037</td>\n",
              "      <td>-2.928029</td>\n",
              "      <td>-5.212459</td>\n",
              "      <td>-6.185498</td>\n",
              "      <td>-4.287881</td>\n",
              "      <td>-9.442967</td>\n",
              "      <td>-3.363303</td>\n",
              "      <td>-12.700437</td>\n",
              "      <td>-2.438724</td>\n",
              "      <td>-15.957906</td>\n",
              "      <td>-1.514146</td>\n",
              "      <td>-19.215375</td>\n",
              "      <td>-0.589568</td>\n",
              "    </tr>\n",
              "    <tr>\n",
              "      <th>8</th>\n",
              "      <td>parabola</td>\n",
              "      <td>11.715961</td>\n",
              "      <td>10.272426</td>\n",
              "      <td>13.215705</td>\n",
              "      <td>14.144118</td>\n",
              "      <td>14.707499</td>\n",
              "      <td>18.565696</td>\n",
              "      <td>16.191344</td>\n",
              "      <td>23.537161</td>\n",
              "      <td>17.667238</td>\n",
              "      <td>29.058511</td>\n",
              "      <td>19.135183</td>\n",
              "      <td>35.129749</td>\n",
              "      <td>20.595178</td>\n",
              "      <td>41.750872</td>\n",
              "      <td>22.047223</td>\n",
              "      <td>48.921883</td>\n",
              "      <td>23.491319</td>\n",
              "      <td>56.642779</td>\n",
              "      <td>24.927464</td>\n",
              "      <td>64.913562</td>\n",
              "    </tr>\n",
              "  </tbody>\n",
              "</table>\n",
              "</div>"
            ],
            "text/plain": [
              "      shape         x1         y1  ...         y9        x10        y10\n",
              "0    circle   5.799098   2.886785  ...  -1.116681  11.041211  -1.075476\n",
              "1    circle   3.654798  -1.789780  ...  -8.530126  -3.304011  -9.841725\n",
              "2    circle  10.698867  11.603182  ...   7.896935  -6.658600   5.991922\n",
              "3  parabola   2.860412   0.187164  ...  12.785883  -9.358075  14.633341\n",
              "4      line   3.134748   2.879625  ...  12.769313   5.795305  14.005524\n",
              "5    circle   4.132642   0.350400  ...   0.654426  -2.434111   0.111609\n",
              "6    circle -23.006002   5.831956  ... -16.908609 -13.365311 -18.436201\n",
              "7      line  10.101848  -8.910771  ...  -1.514146 -19.215375  -0.589568\n",
              "8  parabola  11.715961  10.272426  ...  56.642779  24.927464  64.913562\n",
              "\n",
              "[9 rows x 21 columns]"
            ]
          },
          "metadata": {
            "tags": []
          },
          "execution_count": 6
        }
      ]
    },
    {
      "cell_type": "code",
      "metadata": {
        "id": "6BPMBHtEOW1p",
        "colab_type": "code",
        "colab": {
          "base_uri": "https://localhost:8080/",
          "height": 374
        },
        "outputId": "ce9ad943-6b31-40c6-f8a1-75e161d1e5f4"
      },
      "source": [
        "# Preprocess\n",
        "\n",
        "# Split x/y\n",
        "X = data.values[:,0:-1]\n",
        "Y = data.values[:,-1]\n",
        "\n",
        "X = X.astype('float32')\n",
        "\n",
        "print(X.shape)\n",
        "print(' ')\n",
        "print(X)\n",
        "print(' ')\n",
        "print(Y)\n",
        "print(' ')\n",
        "\n",
        "# Encode label vector\n",
        "encoder = LabelEncoder()\n",
        "encoded_Y = encoder.fit_transform(Y)\n",
        "\n",
        "# Transform labels to categorical (=ne-hot-encoding)\n",
        "dummy_y = to_categorical(encoded_Y)\n",
        "\n",
        "mapping = dict(zip(encoder.classes_, range(1, len(encoder.classes_)+1)))\n",
        "print('Class mapping:')\n",
        "print(mapping)\n",
        "print(dummy_y)\n"
      ],
      "execution_count": null,
      "outputs": [
        {
          "output_type": "stream",
          "text": [
            "(3000, 20)\n",
            " \n",
            "[[ 5.799098   2.886785   5.9801373 ... -1.1166809 11.041211  -1.0754764]\n",
            " [ 3.6547983 -1.7897797  2.3598068 ... -8.530127  -3.304011  -9.841725 ]\n",
            " [10.698867  11.603182   8.615402  ...  7.896935  -6.6586     5.991922 ]\n",
            " ...\n",
            " [ 9.374282  -7.1663156  9.639446  ... -7.6468654 12.405381  -7.431783 ]\n",
            " [ 3.1423914  8.584241   1.1868674 ... -1.5941349 -7.3658776 -3.5747368]\n",
            " [ 3.2282054 -3.817263   3.0947351 ... -9.712591  23.490572  -9.052892 ]]\n",
            " \n",
            "['circle' 'circle' 'circle' ... 'circle' 'circle' 'parabola']\n",
            " \n",
            "Class mapping:\n",
            "{'circle': 1, 'line': 2, 'parabola': 3}\n",
            "[[1. 0. 0.]\n",
            " [1. 0. 0.]\n",
            " [1. 0. 0.]\n",
            " ...\n",
            " [1. 0. 0.]\n",
            " [1. 0. 0.]\n",
            " [0. 0. 1.]]\n"
          ],
          "name": "stdout"
        }
      ]
    },
    {
      "cell_type": "markdown",
      "metadata": {
        "id": "Rp8ST1I5Ou0h",
        "colab_type": "text"
      },
      "source": [
        "# Define the model and train it"
      ]
    },
    {
      "cell_type": "code",
      "metadata": {
        "id": "kh257hUuPGtN",
        "colab_type": "code",
        "colab": {
          "base_uri": "https://localhost:8080/",
          "height": 476
        },
        "outputId": "6b62b817-d6fe-4fe8-bbbb-27955e4231ba"
      },
      "source": [
        "# Build model\n",
        "model = get_model()\n",
        "print(model.summary())"
      ],
      "execution_count": null,
      "outputs": [
        {
          "output_type": "stream",
          "text": [
            "Model: \"sequential\"\n",
            "_________________________________________________________________\n",
            "Layer (type)                 Output Shape              Param #   \n",
            "=================================================================\n",
            "dense (Dense)                (None, 64)                1344      \n",
            "_________________________________________________________________\n",
            "dropout (Dropout)            (None, 64)                0         \n",
            "_________________________________________________________________\n",
            "dense_1 (Dense)              (None, 128)               8320      \n",
            "_________________________________________________________________\n",
            "dropout_1 (Dropout)          (None, 128)               0         \n",
            "_________________________________________________________________\n",
            "dense_2 (Dense)              (None, 32)                4128      \n",
            "_________________________________________________________________\n",
            "dropout_2 (Dropout)          (None, 32)                0         \n",
            "_________________________________________________________________\n",
            "dense_3 (Dense)              (None, 16)                528       \n",
            "_________________________________________________________________\n",
            "dropout_3 (Dropout)          (None, 16)                0         \n",
            "_________________________________________________________________\n",
            "dense_4 (Dense)              (None, 3)                 51        \n",
            "=================================================================\n",
            "Total params: 14,371\n",
            "Trainable params: 14,371\n",
            "Non-trainable params: 0\n",
            "_________________________________________________________________\n",
            "None\n"
          ],
          "name": "stdout"
        }
      ]
    },
    {
      "cell_type": "code",
      "metadata": {
        "id": "BCVSO1K9PLV3",
        "colab_type": "code",
        "colab": {
          "base_uri": "https://localhost:8080/",
          "height": 1000
        },
        "outputId": "7440f74c-4ad0-4786-e17c-123060868fd2"
      },
      "source": [
        "# Train model\n",
        "history = model.fit(x=X,y=dummy_y,validation_split=0.2,shuffle=True, epochs=40, batch_size=10)\n",
        "\n",
        "train_loss = history.history['loss']\n",
        "val_loss = history.history['val_loss']\n",
        "\n",
        "train_acc = history.history['accuracy']\n",
        "val_acc = history.history['val_accuracy']"
      ],
      "execution_count": null,
      "outputs": [
        {
          "output_type": "stream",
          "text": [
            "Epoch 1/40\n",
            "240/240 [==============================] - 1s 5ms/step - loss: 4.3759 - accuracy: 0.3688 - val_loss: 1.0383 - val_accuracy: 0.3533\n",
            "Epoch 2/40\n",
            "240/240 [==============================] - 1s 4ms/step - loss: 1.5173 - accuracy: 0.3338 - val_loss: 1.0538 - val_accuracy: 0.3333\n",
            "Epoch 3/40\n",
            "240/240 [==============================] - 1s 4ms/step - loss: 1.2725 - accuracy: 0.3571 - val_loss: 1.0521 - val_accuracy: 0.3950\n",
            "Epoch 4/40\n",
            "240/240 [==============================] - 1s 4ms/step - loss: 1.1339 - accuracy: 0.3796 - val_loss: 0.9990 - val_accuracy: 0.4100\n",
            "Epoch 5/40\n",
            "240/240 [==============================] - 1s 4ms/step - loss: 1.1028 - accuracy: 0.4046 - val_loss: 0.9458 - val_accuracy: 0.6250\n",
            "Epoch 6/40\n",
            "240/240 [==============================] - 1s 4ms/step - loss: 1.0617 - accuracy: 0.4392 - val_loss: 0.8825 - val_accuracy: 0.6933\n",
            "Epoch 7/40\n",
            "240/240 [==============================] - 1s 4ms/step - loss: 0.9937 - accuracy: 0.4737 - val_loss: 0.7999 - val_accuracy: 0.7183\n",
            "Epoch 8/40\n",
            "240/240 [==============================] - 1s 4ms/step - loss: 0.9683 - accuracy: 0.5096 - val_loss: 0.7452 - val_accuracy: 0.7167\n",
            "Epoch 9/40\n",
            "240/240 [==============================] - 1s 4ms/step - loss: 0.9351 - accuracy: 0.5263 - val_loss: 0.7154 - val_accuracy: 0.7300\n",
            "Epoch 10/40\n",
            "240/240 [==============================] - 1s 4ms/step - loss: 0.8762 - accuracy: 0.5396 - val_loss: 0.6762 - val_accuracy: 0.7283\n",
            "Epoch 11/40\n",
            "240/240 [==============================] - 1s 4ms/step - loss: 0.8524 - accuracy: 0.5579 - val_loss: 0.6339 - val_accuracy: 0.7433\n",
            "Epoch 12/40\n",
            "240/240 [==============================] - 1s 4ms/step - loss: 0.8311 - accuracy: 0.5829 - val_loss: 0.6127 - val_accuracy: 0.7517\n",
            "Epoch 13/40\n",
            "240/240 [==============================] - 1s 4ms/step - loss: 0.8158 - accuracy: 0.5975 - val_loss: 0.5988 - val_accuracy: 0.7583\n",
            "Epoch 14/40\n",
            "240/240 [==============================] - 1s 4ms/step - loss: 0.7735 - accuracy: 0.6229 - val_loss: 0.5927 - val_accuracy: 0.7650\n",
            "Epoch 15/40\n",
            "240/240 [==============================] - 1s 4ms/step - loss: 0.7020 - accuracy: 0.6571 - val_loss: 0.5463 - val_accuracy: 0.7950\n",
            "Epoch 16/40\n",
            "240/240 [==============================] - 1s 4ms/step - loss: 0.6994 - accuracy: 0.6875 - val_loss: 0.5216 - val_accuracy: 0.7933\n",
            "Epoch 17/40\n",
            "240/240 [==============================] - 1s 4ms/step - loss: 0.7014 - accuracy: 0.6775 - val_loss: 0.5152 - val_accuracy: 0.8133\n",
            "Epoch 18/40\n",
            "240/240 [==============================] - 1s 4ms/step - loss: 0.6560 - accuracy: 0.7125 - val_loss: 0.4689 - val_accuracy: 0.8317\n",
            "Epoch 19/40\n",
            "240/240 [==============================] - 1s 4ms/step - loss: 0.6508 - accuracy: 0.7188 - val_loss: 0.4846 - val_accuracy: 0.8283\n",
            "Epoch 20/40\n",
            "240/240 [==============================] - 1s 4ms/step - loss: 0.6058 - accuracy: 0.7371 - val_loss: 0.4250 - val_accuracy: 0.8450\n",
            "Epoch 21/40\n",
            "240/240 [==============================] - 1s 4ms/step - loss: 0.5745 - accuracy: 0.7608 - val_loss: 0.4032 - val_accuracy: 0.8600\n",
            "Epoch 22/40\n",
            "240/240 [==============================] - 1s 4ms/step - loss: 0.5510 - accuracy: 0.7654 - val_loss: 0.3814 - val_accuracy: 0.8633\n",
            "Epoch 23/40\n",
            "240/240 [==============================] - 1s 5ms/step - loss: 0.5195 - accuracy: 0.7946 - val_loss: 0.3608 - val_accuracy: 0.8783\n",
            "Epoch 24/40\n",
            "240/240 [==============================] - 1s 5ms/step - loss: 0.4994 - accuracy: 0.8079 - val_loss: 0.3183 - val_accuracy: 0.9000\n",
            "Epoch 25/40\n",
            "240/240 [==============================] - 1s 5ms/step - loss: 0.4545 - accuracy: 0.8333 - val_loss: 0.2860 - val_accuracy: 0.9117\n",
            "Epoch 26/40\n",
            "240/240 [==============================] - 1s 5ms/step - loss: 0.4452 - accuracy: 0.8383 - val_loss: 0.2393 - val_accuracy: 0.9350\n",
            "Epoch 27/40\n",
            "240/240 [==============================] - 1s 4ms/step - loss: 0.4240 - accuracy: 0.8575 - val_loss: 0.2364 - val_accuracy: 0.9300\n",
            "Epoch 28/40\n",
            "240/240 [==============================] - 1s 4ms/step - loss: 0.3966 - accuracy: 0.8671 - val_loss: 0.2175 - val_accuracy: 0.9333\n",
            "Epoch 29/40\n",
            "240/240 [==============================] - 1s 4ms/step - loss: 0.3466 - accuracy: 0.8925 - val_loss: 0.1714 - val_accuracy: 0.9583\n",
            "Epoch 30/40\n",
            "240/240 [==============================] - 1s 4ms/step - loss: 0.3354 - accuracy: 0.8904 - val_loss: 0.1643 - val_accuracy: 0.9600\n",
            "Epoch 31/40\n",
            "240/240 [==============================] - 1s 4ms/step - loss: 0.3003 - accuracy: 0.9033 - val_loss: 0.1425 - val_accuracy: 0.9633\n",
            "Epoch 32/40\n",
            "240/240 [==============================] - 1s 4ms/step - loss: 0.2910 - accuracy: 0.9133 - val_loss: 0.1328 - val_accuracy: 0.9717\n",
            "Epoch 33/40\n",
            "240/240 [==============================] - 1s 4ms/step - loss: 0.2532 - accuracy: 0.9279 - val_loss: 0.1395 - val_accuracy: 0.9700\n",
            "Epoch 34/40\n",
            "240/240 [==============================] - 1s 4ms/step - loss: 0.2803 - accuracy: 0.9217 - val_loss: 0.1300 - val_accuracy: 0.9683\n",
            "Epoch 35/40\n",
            "240/240 [==============================] - 1s 4ms/step - loss: 0.2757 - accuracy: 0.9196 - val_loss: 0.1247 - val_accuracy: 0.9717\n",
            "Epoch 36/40\n",
            "240/240 [==============================] - 1s 4ms/step - loss: 0.2448 - accuracy: 0.9296 - val_loss: 0.1229 - val_accuracy: 0.9650\n",
            "Epoch 37/40\n",
            "240/240 [==============================] - 1s 4ms/step - loss: 0.2157 - accuracy: 0.9388 - val_loss: 0.1217 - val_accuracy: 0.9683\n",
            "Epoch 38/40\n",
            "240/240 [==============================] - 1s 4ms/step - loss: 0.2248 - accuracy: 0.9354 - val_loss: 0.1073 - val_accuracy: 0.9750\n",
            "Epoch 39/40\n",
            "240/240 [==============================] - 1s 4ms/step - loss: 0.2134 - accuracy: 0.9400 - val_loss: 0.1064 - val_accuracy: 0.9733\n",
            "Epoch 40/40\n",
            "240/240 [==============================] - 1s 4ms/step - loss: 0.1964 - accuracy: 0.9429 - val_loss: 0.0993 - val_accuracy: 0.9750\n"
          ],
          "name": "stdout"
        }
      ]
    },
    {
      "cell_type": "code",
      "metadata": {
        "id": "8dZ-X-_9PP_E",
        "colab_type": "code",
        "colab": {
          "base_uri": "https://localhost:8080/",
          "height": 1000
        },
        "outputId": "aad7b7dc-cc7e-4bb3-baad-7c9203825b74"
      },
      "source": [
        "# Visualize training history\n",
        "\n",
        "plotter_train(train_loss,val_loss,'Loss')\n",
        "plotter_train(train_acc,val_acc,'Accuracy')"
      ],
      "execution_count": null,
      "outputs": [
        {
          "output_type": "display_data",
          "data": {
            "image/png": "[encoded data removed]",
            "text/plain": [
              "<Figure size 720x720 with 1 Axes>"
            ]
          },
          "metadata": {
            "tags": [],
            "needs_background": "light"
          }
        },
        {
          "output_type": "display_data",
          "data": {
            "image/png": "[encoded data removed]",
            "text/plain": [
              "<Figure size 720x720 with 1 Axes>"
            ]
          },
          "metadata": {
            "tags": [],
            "needs_background": "light"
          }
        }
      ]
    },
    {
      "cell_type": "code",
      "metadata": {
        "id": "Tqv6vszPP614",
        "colab_type": "code",
        "colab": {
          "base_uri": "https://localhost:8080/",
          "height": 34
        },
        "outputId": "e07daea9-775c-46ea-9a20-d290873dd5f3"
      },
      "source": [
        "# Evaluate trained model with k-fold corssvalidation method\n",
        "\n",
        "seed = 7\n",
        "np.random.seed(seed)\n",
        "\n",
        "estimator = KerasClassifier(build_fn=get_model, epochs=40, batch_size=10, verbose=0)\n",
        "\n",
        "kfold = KFold(n_splits=10, shuffle=True, random_state=seed)\n",
        "\n",
        "results = cross_val_score(estimator, X, dummy_y, cv=kfold)\n",
        "print(\"K-Fold Crossvalidation Accuracy: %.2f%% (%.2f%%)\" % (results.mean()*100, results.std()*100))"
      ],
      "execution_count": null,
      "outputs": [
        {
          "output_type": "stream",
          "text": [
            "K-Fold Crossvalidation Accuracy: 99.97% (0.10%)\n"
          ],
          "name": "stdout"
        }
      ]
    },
    {
      "cell_type": "markdown",
      "metadata": {
        "id": "MZwAXvtlO8XR",
        "colab_type": "text"
      },
      "source": [
        "# Test the model with the test dataset"
      ]
    },
    {
      "cell_type": "code",
      "metadata": {
        "id": "hFeczIoMQQWL",
        "colab_type": "code",
        "colab": {
          "base_uri": "https://localhost:8080/",
          "height": 729
        },
        "outputId": "7149fd07-5758-4db9-e263-0bfce05b2e89"
      },
      "source": [
        "# Make a test predicition\n",
        "\n",
        "# Load test dataset\n",
        "data_test = pd.read_csv('curve_dataset_test.csv', index_col=False)\n",
        "data_test = data_test.sample(frac=1, random_state=42).reset_index()\n",
        "data_test.drop(['index'], 1, inplace=True)\n",
        "\n",
        "data_test[:9][['shape', 'x1', 'y1','x2', 'y2','x3', 'y3','x4', 'y4','x5', 'y5','x6', 'y6','x7', 'y7','x8', 'y8','x9', 'y9','x10', 'y10']]\n",
        "\n",
        "# Split x/y\n",
        "X_test = data_test.values[:,0:-1]\n",
        "Y_test = data_test.values[:,-1]\n",
        "\n",
        "X_test = X_test.astype('float32')\n",
        "\n",
        "\n",
        "\n",
        "\n",
        "# Encode label vector\n",
        "encoder = LabelEncoder()\n",
        "encoded_Y_test = encoder.fit_transform(Y_test)\n",
        "\n",
        "# Transform labels to categorical (=one-hot-encoding)\n",
        "dummy_y_test = to_categorical(encoded_Y_test)\n",
        "mapping = dict(zip(encoder.classes_, range(1, len(encoder.classes_)+1)))\n",
        "print('Class mapping:')\n",
        "print(mapping)\n",
        "\n",
        "\n",
        "# Specific sample\n",
        "#predict_arr = X_test[15].reshape(1,20)\n",
        "#predict_ground_truth = dummy_y_test[15]\n",
        "\n",
        "# Random sample\n",
        "rand_index = np.random.choice(len(X_test), 1)\n",
        "predict_arr = X_test[rand_index].reshape(1,20)\n",
        "predict_ground_truth = dummy_y_test[rand_index]\n",
        "\n",
        "\n",
        "\n",
        "#print(X_test.shape)\n",
        "#print(predict_arr)\n",
        "#print(predict_arr.shape)\n",
        "print(' ')\n",
        "\n",
        "\n",
        "x_data = predict_arr[0,0::2]\n",
        "y_data = predict_arr[0,1::2]\n",
        "\n",
        "\n",
        "plotter_data(x_data, y_data, 'Data for test prediction')\n",
        "\n",
        "start_preprocessing = time.time()\n",
        "prediction = model.predict(predict_arr)\n",
        "end_preprocessing = time.time()\n",
        "\n",
        "pred_conf = prediction[0, np.argmax(prediction)]\n",
        "pred_conf = round(pred_conf*100, 2)\n",
        "\n",
        "pred_time = round((end_preprocessing-start_preprocessing), 3)\n",
        "\n",
        "#print(prediction)\n",
        "print('Predicted class no.: ' + str(np.argmax(prediction)))\n",
        "print('Ground truth.: ' + str(np.argmax(predict_ground_truth)))\n",
        "print('Prediction confidence: ' + str(pred_conf) + ' %')\n",
        "print('Processing time for prediction: ' + str(pred_time) + ' ms')"
      ],
      "execution_count": null,
      "outputs": [
        {
          "output_type": "stream",
          "text": [
            "Class mapping:\n",
            "{'circle': 1, 'line': 2, 'parabola': 3}\n",
            " \n"
          ],
          "name": "stdout"
        },
        {
          "output_type": "display_data",
          "data": {
            "image/png": "[encoded data removed]",
            "text/plain": [
              "<Figure size 720x720 with 1 Axes>"
            ]
          },
          "metadata": {
            "tags": [],
            "needs_background": "light"
          }
        },
        {
          "output_type": "stream",
          "text": [
            "Predicted class no.: 0\n",
            "Ground truth.: 0\n",
            "Prediction confidence: 99.65 %\n",
            "Processing time for prediction: 0.035 ms\n"
          ],
          "name": "stdout"
        }
      ]
    },
    {
      "cell_type": "markdown",
      "metadata": {
        "id": "XJNrQSwjPCwy",
        "colab_type": "text"
      },
      "source": [
        "# Convert and save it"
      ]
    },
    {
      "cell_type": "code",
      "metadata": {
        "id": "XPyzTKvgPzJp",
        "colab_type": "code",
        "colab": {
          "base_uri": "https://localhost:8080/",
          "height": 85
        },
        "outputId": "8386c798-0988-46cf-89c6-921c014be764"
      },
      "source": [
        "# Save and convert model to ONNX\n",
        "model.save('model_curvetypes.h5')\n",
        "\n",
        "onnx_model = onnxmltools.convert_keras(model, model.name)\n",
        "onnxmltools.utils.save_model(onnx_model, 'model_curvetypes.onnx')"
      ],
      "execution_count": null,
      "outputs": [
        {
          "output_type": "stream",
          "text": [
            "tf executing eager_mode: True\n",
            "tf.keras model eager_mode: False\n",
            "The ONNX operator number change on the optimization: 23 -> 15\n",
            "The maximum opset needed by this model is only 9.\n"
          ],
          "name": "stderr"
        }
      ]
    },
    {
      "cell_type": "code",
      "metadata": {
        "id": "Py4bGzqrFSbt",
        "colab_type": "code",
        "colab": {
          "base_uri": "https://localhost:8080/",
          "height": 814
        },
        "outputId": "50710cdd-a252-42b6-a0aa-10dcdef8cfe1"
      },
      "source": [
        "# Test ONNX \n",
        "\n",
        "#!pip3 install onnxruntime\n",
        "import onnxruntime as onnxrun\n",
        "\n",
        "sess = onnxrun.InferenceSession(\"model_curvetypes.onnx\")\n",
        "\n",
        "print(\"The model expects input shape: \", sess.get_inputs()[0].shape)\n",
        "print(\"The shape of the data array is: \", predict_arr.shape)\n",
        "print(' ')\n",
        "\n",
        "input_name = sess.get_inputs()[0].name\n",
        "label_name = sess.get_outputs()[0].name\n",
        "\n",
        "print('Input name: ' + input_name)\n",
        "print('Input label name: ' + label_name)\n",
        "print(' ')\n",
        "\n",
        "start_preprocessing = time.time()\n",
        "prediction = np.array(sess.run(None, {input_name: predict_arr}))\n",
        "end_preprocessing = time.time()\n",
        "\n",
        "print('The output shape is: ' + str(prediction.shape))\n",
        "print(' ')\n",
        "\n",
        "plotter_data(x_data, y_data, 'Data for test prediction')\n",
        "\n",
        "pred_conf = prediction[0, 0, np.argmax(prediction)]\n",
        "pred_conf = round(pred_conf*100, 2)\n",
        "\n",
        "pred_time = round((end_preprocessing-start_preprocessing), 3)\n",
        "\n",
        "\n",
        "#print(prediction)\n",
        "print('Predicted class no.: ' + str(np.argmax(prediction)))\n",
        "print('Ground truth.: ' + str(np.argmax(predict_ground_truth)))\n",
        "print('Prediction confidence: ' + str(pred_conf) + ' %')\n",
        "print('Processing time for prediction: ' + str(pred_time) + ' ms')"
      ],
      "execution_count": null,
      "outputs": [
        {
          "output_type": "stream",
          "text": [
            "The model expects input shape:  ['N', 20]\n",
            "The shape of the data array is:  (1, 20)\n",
            " \n",
            "Input name: dense_input\n",
            "Input label name: dense_4\n",
            " \n",
            "The output shape is: (1, 1, 3)\n",
            " \n"
          ],
          "name": "stdout"
        },
        {
          "output_type": "display_data",
          "data": {
            "image/png": "[encoded data removed]",
            "text/plain": [
              "<Figure size 720x720 with 1 Axes>"
            ]
          },
          "metadata": {
            "tags": [],
            "needs_background": "light"
          }
        },
        {
          "output_type": "stream",
          "text": [
            "Predicted class no.: 0\n",
            "Ground truth.: 0\n",
            "Prediction confidence: 99.65 %\n",
            "Processing time for prediction: 0.017 ms\n"
          ],
          "name": "stdout"
        }
      ]
    }
  ]
}